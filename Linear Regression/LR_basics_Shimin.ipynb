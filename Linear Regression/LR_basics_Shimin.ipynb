{
 "cells": [
  {
   "cell_type": "code",
   "execution_count": 29,
   "id": "67090b0f-1d42-4698-a41d-8bbfdefe1367",
   "metadata": {},
   "outputs": [],
   "source": [
    "import warnings\n",
    "warnings.filterwarnings(\"ignore\")\n",
    "from pyspark.sql import SparkSession"
   ]
  },
  {
   "cell_type": "code",
   "execution_count": 2,
   "id": "a9a5607b-cf57-4293-a4fd-5efee9eef09c",
   "metadata": {},
   "outputs": [],
   "source": [
    "spark = SparkSession.builder.appName(\"Linear\").getOrCreate()"
   ]
  },
  {
   "cell_type": "code",
   "execution_count": 4,
   "id": "43f9573c-723c-4fc7-b639-fa36c804df5a",
   "metadata": {},
   "outputs": [],
   "source": [
    "from pyspark.ml.regression import LinearRegression"
   ]
  },
  {
   "cell_type": "code",
   "execution_count": 5,
   "id": "39b3488f-76bd-4744-a303-35c722ef1b08",
   "metadata": {},
   "outputs": [],
   "source": [
    "# Load training data\n",
    "training = spark.read.format(\"libsvm\").load(\"sample_linear_regression_data.txt\")"
   ]
  },
  {
   "cell_type": "code",
   "execution_count": 6,
   "id": "249b849a-ec34-4503-8fe4-af1d6af0cd7f",
   "metadata": {},
   "outputs": [],
   "source": [
    "lr = LinearRegression(featuresCol='features', labelCol='label', predictionCol='prediction')\n",
    "\n",
    "# You could also pass in additional parameters for regularization, do the reading \n",
    "# in ISLR to fully understand that, after that its just some simple parameter calls.\n",
    "# Check the documentation with Shift+Tab for more info!"
   ]
  },
  {
   "cell_type": "code",
   "execution_count": 7,
   "id": "ec855632-a53b-4277-adb1-a87dae53eac8",
   "metadata": {},
   "outputs": [],
   "source": [
    "# Fit the model\n",
    "lrModel = lr.fit(training)"
   ]
  },
  {
   "cell_type": "code",
   "execution_count": 11,
   "id": "f2dced3d-bf6d-4701-983e-cc1725b9cf8e",
   "metadata": {},
   "outputs": [
    {
     "name": "stdout",
     "output_type": "stream",
     "text": [
      "Coefficients:[0.0073350710225801715,0.8313757584337543,-0.8095307954684084,2.441191686884721,0.5191713795290003,1.1534591903547016,-0.2989124112808717,-0.5128514186201779,-0.619712827067017,0.6956151804322931]\n",
      "\n",
      "\n",
      "Intercept:0.14228558260358093\n"
     ]
    }
   ],
   "source": [
    "print(\"Coefficients:{}\".format(str(lrModel.coefficients)))\n",
    "print('\\n')\n",
    "print(\"Intercept:{}\".format(str(lrModel.intercept)))"
   ]
  },
  {
   "cell_type": "code",
   "execution_count": 13,
   "id": "c6947a65-a54c-4800-8148-d1f3690f76ab",
   "metadata": {},
   "outputs": [],
   "source": [
    "modelsummary = lrModel.summary"
   ]
  },
  {
   "cell_type": "code",
   "execution_count": 16,
   "id": "2ed2ea44-2b94-480f-8f10-122068f32b8c",
   "metadata": {},
   "outputs": [
    {
     "name": "stdout",
     "output_type": "stream",
     "text": [
      "+-------------------+\n",
      "|          residuals|\n",
      "+-------------------+\n",
      "|-11.011130022096554|\n",
      "| 0.9236590911176538|\n",
      "|-4.5957401897776675|\n",
      "|  -20.4201774575836|\n",
      "|-10.339160314788181|\n",
      "|-5.9552091439610555|\n",
      "|-10.726906349283922|\n",
      "|  2.122807193191233|\n",
      "|  4.077122222293811|\n",
      "|-17.316168071241652|\n",
      "| -4.593044343959059|\n",
      "|  6.380476690746936|\n",
      "| 11.320566035059846|\n",
      "|-20.721971774534094|\n",
      "| -2.736692773777401|\n",
      "| -16.66886934252847|\n",
      "|  8.242186378876315|\n",
      "|-1.3723486332690233|\n",
      "|-0.7060332131264666|\n",
      "|-1.1591135969994064|\n",
      "+-------------------+\n",
      "only showing top 20 rows\n",
      "\n"
     ]
    }
   ],
   "source": [
    "modelsummary.residuals.show()"
   ]
  },
  {
   "cell_type": "code",
   "execution_count": 17,
   "id": "a76ea3d5-730a-4da8-9fcd-df64e095652a",
   "metadata": {},
   "outputs": [
    {
     "name": "stdout",
     "output_type": "stream",
     "text": [
      "MSE:103.28843028724194\n",
      "r2:0.027839179518600154\n"
     ]
    }
   ],
   "source": [
    "print(\"MSE:{}\".format(modelsummary.meanSquaredError))\n",
    "print(\"r2:{}\".format(modelsummary.r2))"
   ]
  },
  {
   "cell_type": "code",
   "execution_count": 18,
   "id": "05d7a99f-6943-42cb-b601-1e66f7b6e2c8",
   "metadata": {},
   "outputs": [],
   "source": [
    "all_data = spark.read.format('libsvm').load(\"sample_linear_regression_data.txt\")"
   ]
  },
  {
   "cell_type": "code",
   "execution_count": 20,
   "id": "b2633091-1432-4bcb-83b9-3588292b8c86",
   "metadata": {},
   "outputs": [],
   "source": [
    "train_data, test_data = all_data.randomSplit([0.7,0.3])"
   ]
  },
  {
   "cell_type": "code",
   "execution_count": 21,
   "id": "7c3d692b-fdaf-4a05-99bb-5cb98f21254e",
   "metadata": {},
   "outputs": [],
   "source": [
    "lr = LinearRegression(featuresCol='features',labelCol='label',predictionCol='prediction',maxIter=10,regParam=0.3)"
   ]
  },
  {
   "cell_type": "code",
   "execution_count": 22,
   "id": "8ea68f7c-d5d0-4263-a1ec-da59062d4d31",
   "metadata": {},
   "outputs": [],
   "source": [
    "correct_model = lr.fit(train_data)"
   ]
  },
  {
   "cell_type": "code",
   "execution_count": 24,
   "id": "052a3ad6-c35f-4e7b-b7d2-558f97e5a0ba",
   "metadata": {},
   "outputs": [
    {
     "name": "stdout",
     "output_type": "stream",
     "text": [
      "MSE:106.78478510901837\n"
     ]
    }
   ],
   "source": [
    "sum = correct_model.summary\n",
    "print(\"MSE:{}\".format(sum.meanSquaredError))"
   ]
  },
  {
   "cell_type": "code",
   "execution_count": 35,
   "id": "a9743db4-ecff-4bd4-af96-f9028db3a869",
   "metadata": {},
   "outputs": [
    {
     "name": "stdout",
     "output_type": "stream",
     "text": [
      "+-------------------+\n",
      "|          residuals|\n",
      "+-------------------+\n",
      "|-23.111018541809074|\n",
      "| -21.89957670806893|\n",
      "|-19.517954671179876|\n",
      "|-18.517543541334334|\n",
      "| -20.90186996661434|\n",
      "|-17.016155172191677|\n",
      "|-15.213773043465242|\n",
      "|-17.263834018788234|\n",
      "|-14.668150031633038|\n",
      "|-11.596429470290344|\n",
      "|-11.261953168228107|\n",
      "|-14.025401800571819|\n",
      "| -15.93607351649755|\n",
      "|-10.658038390968656|\n",
      "|  -13.1279554181704|\n",
      "| -9.399927536263633|\n",
      "|-11.679559748307376|\n",
      "|-12.848281489001227|\n",
      "| -10.64396228124224|\n",
      "|-11.351191527299598|\n",
      "+-------------------+\n",
      "only showing top 20 rows\n",
      "\n",
      "MSE: 100.91434662975908\n"
     ]
    }
   ],
   "source": [
    "test_results = correct_model.evaluate(test_data)\n",
    "test_results.residuals.show()\n",
    "print(\"MSE: {}\".format(test_results.meanSquaredError))"
   ]
  },
  {
   "cell_type": "code",
   "execution_count": 25,
   "id": "caa6cd49-a144-4c90-a302-cd89981b73a6",
   "metadata": {},
   "outputs": [],
   "source": [
    "unlabeled_data = test_data.select('features')"
   ]
  },
  {
   "cell_type": "code",
   "execution_count": 32,
   "id": "2ad39dd7-ece9-4a9f-a283-41a228eae950",
   "metadata": {},
   "outputs": [],
   "source": [
    "predictions = correct_model.transform(unlabeled_data)"
   ]
  },
  {
   "cell_type": "code",
   "execution_count": 33,
   "id": "fe64f003-6584-4bf7-b091-d81d459e2055",
   "metadata": {},
   "outputs": [
    {
     "name": "stdout",
     "output_type": "stream",
     "text": [
      "+--------------------+--------------------+\n",
      "|            features|          prediction|\n",
      "+--------------------+--------------------+\n",
      "|(10,[0,1,2,3,4,5,...|  1.6786307776432683|\n",
      "|(10,[0,1,2,3,4,5,...|  2.0150159337955054|\n",
      "|(10,[0,1,2,3,4,5,...|    1.71432848251536|\n",
      "|(10,[0,1,2,3,4,5,...|  1.4910512771247855|\n",
      "|(10,[0,1,2,3,4,5,...|   4.209662945303233|\n",
      "|(10,[0,1,2,3,4,5,...|  1.2840668999524303|\n",
      "|(10,[0,1,2,3,4,5,...|-0.09720754595104736|\n",
      "|(10,[0,1,2,3,4,5,...|  2.2073510442458018|\n",
      "|(10,[0,1,2,3,4,5,...|  0.6920191004803353|\n",
      "|(10,[0,1,2,3,4,5,...|  -2.270658424868424|\n",
      "|(10,[0,1,2,3,4,5,...| -1.7158955571639964|\n",
      "|(10,[0,1,2,3,4,5,...|    1.46682601171563|\n",
      "|(10,[0,1,2,3,4,5,...|  3.4352997311424955|\n",
      "|(10,[0,1,2,3,4,5,...| -1.4723148213192736|\n",
      "|(10,[0,1,2,3,4,5,...|  1.2229685154952854|\n",
      "|(10,[0,1,2,3,4,5,...| -2.4574228291657922|\n",
      "|(10,[0,1,2,3,4,5,...| 0.06378448329175052|\n",
      "|(10,[0,1,2,3,4,5,...|  1.4164791234607672|\n",
      "|(10,[0,1,2,3,4,5,...| -0.3953855270115872|\n",
      "|(10,[0,1,2,3,4,5,...|   0.405271869516666|\n",
      "+--------------------+--------------------+\n",
      "only showing top 20 rows\n",
      "\n"
     ]
    }
   ],
   "source": [
    "predictions.show()"
   ]
  },
  {
   "cell_type": "code",
   "execution_count": null,
   "id": "d1edac54-eac3-4921-9d06-4189c06ef962",
   "metadata": {},
   "outputs": [],
   "source": []
  }
 ],
 "metadata": {
  "kernelspec": {
   "display_name": "Python 3",
   "language": "python",
   "name": "python3"
  },
  "language_info": {
   "codemirror_mode": {
    "name": "ipython",
    "version": 3
   },
   "file_extension": ".py",
   "mimetype": "text/x-python",
   "name": "python",
   "nbconvert_exporter": "python",
   "pygments_lexer": "ipython3",
   "version": "3.8.8"
  }
 },
 "nbformat": 4,
 "nbformat_minor": 5
}
